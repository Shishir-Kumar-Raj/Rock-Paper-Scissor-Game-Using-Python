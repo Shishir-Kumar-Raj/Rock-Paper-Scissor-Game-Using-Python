{
 "cells": [
  {
   "cell_type": "code",
   "execution_count": null,
   "id": "fa4a05c1-0219-42c2-a161-76d86ebbbd39",
   "metadata": {},
   "outputs": [
    {
     "name": "stdout",
     "output_type": "stream",
     "text": [
      "Welcome to Rock, Paper, Scissor Game !!!\n"
     ]
    }
   ],
   "source": [
    "import random\n",
    "\n",
    "print(\"Welcome to Rock, Paper, Scissor Game !!!\")\n",
    "\n",
    "while True:\n",
    "    play = input(\"Do You Want To Play? (y/n): \")\n",
    "    play = play.lower()\n",
    "\n",
    "    if play == 'y':\n",
    "        choices = ('rock', 'paper', 'scissor') \n",
    "        U_Choice = input(\"Rock, Paper or Scissor? (rock, paper, scissor): \").lower()\n",
    "        \n",
    "        if U_Choice not in choices:\n",
    "            print(\"Invalid move. Please choose rock, paper, or scissor.\")\n",
    "            continue\n",
    "\n",
    "        C_Choice = random.choice(choices)\n",
    "        print(f\"Computer chose: {C_Choice}\")\n",
    "\n",
    "        if U_Choice == C_Choice:\n",
    "            print(\"Match Draw\")\n",
    "        elif (U_Choice == 'rock' and C_Choice == 'scissor') or (U_Choice == 'scissor' and C_Choice == 'paper') or (U_Choice == 'paper' and C_Choice == 'rock'):\n",
    "            print(\"You Win !!!\")\n",
    "        else:\n",
    "            print(\"Computer Wins !!!\")\n",
    "\n",
    "    elif play == 'n':\n",
    "        print(\"Thank You for Playing !!!\")\n",
    "        break\n",
    "    else:\n",
    "        print(\"Invalid Choice !!!\")"
   ]
  },
  {
   "cell_type": "code",
   "execution_count": null,
   "id": "a4350e4b-d619-4657-a519-293de81881a1",
   "metadata": {},
   "outputs": [],
   "source": []
  }
 ],
 "metadata": {
  "kernelspec": {
   "display_name": "Python [conda env:base] *",
   "language": "python",
   "name": "conda-base-py"
  },
  "language_info": {
   "codemirror_mode": {
    "name": "ipython",
    "version": 3
   },
   "file_extension": ".py",
   "mimetype": "text/x-python",
   "name": "python",
   "nbconvert_exporter": "python",
   "pygments_lexer": "ipython3",
   "version": "3.12.7"
  }
 },
 "nbformat": 4,
 "nbformat_minor": 5
}
